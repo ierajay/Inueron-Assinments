{
 "cells": [
  {
   "cell_type": "code",
   "execution_count": 3,
   "id": "e45317b4",
   "metadata": {},
   "outputs": [
    {
     "data": {
      "text/plain": [
       "'\\nQ1: Values or Expression\\n* is an mathematical operator expression\\n\\'hello\\' is string value\\n-87.8 is interger value\\n\"\" is an expression\\n/ is an mathematical operator expression\\n+ is an mathematical operator expression\\n6 is an integer value\\n'"
      ]
     },
     "execution_count": 3,
     "metadata": {},
     "output_type": "execute_result"
    }
   ],
   "source": [
    "'''\n",
    "Q1: Values or Expression\n",
    "* is an mathematical operator expression\n",
    "'hello' is string value\n",
    "-87.8 is interger value\n",
    "\"\" is an expression\n",
    "/ is an mathematical operator expression\n",
    "+ is an mathematical operator expression\n",
    "6 is an integer value\n",
    "'''\n"
   ]
  },
  {
   "cell_type": "code",
   "execution_count": 4,
   "id": "a2bcecc3",
   "metadata": {
    "scrolled": true
   },
   "outputs": [
    {
     "data": {
      "text/plain": [
       "'\\nDifference between string and variable:\\n\\nString is value which represent text. \\nString is always written under single or double quote.\\nIn python programming everything written under single or double quote is considered as string.\\nfor example: \"Ajay\", \"4\",\\'*\\',\\'-0.25555\\'\\n\\nVariable is name assigned to any value.\\nIt should not start with number and some special character.\\nUnderscore can be used to name variable.\\nVarialble could hold value as string, float, integer, boolean etc.\\n'"
      ]
     },
     "execution_count": 4,
     "metadata": {},
     "output_type": "execute_result"
    }
   ],
   "source": [
    "'''\n",
    "Difference between string and variable:\n",
    "\n",
    "String is value which represent text. \n",
    "String is always written under single or double quote.\n",
    "In python programming everything written under single or double quote is considered as string.\n",
    "for example: \"Ajay\", \"4\",'*','-0.25555'\n",
    "\n",
    "Variable is name assigned to any value.\n",
    "It should not start with number and some special character.\n",
    "Underscore can be used to name variable.\n",
    "Varialble could hold value as string, float, integer, boolean etc.\n",
    "'''\n"
   ]
  },
  {
   "cell_type": "code",
   "execution_count": null,
   "id": "a31e602a",
   "metadata": {},
   "outputs": [],
   "source": [
    "'''Data types:\n",
    "There are different data types. three data types are as following\n",
    "\n",
    "1: Integer: They contains numbers, other than decimals.\n",
    "2: Float: They contains decimal numbers.\n",
    "3: Boolean: They contains True and False values\n",
    "'''"
   ]
  },
  {
   "cell_type": "code",
   "execution_count": 5,
   "id": "26689ec3",
   "metadata": {},
   "outputs": [
    {
     "data": {
      "text/plain": [
       "'\\nAn expression is a combination of operators and operands that is interpreted to produce some other value.\\nThere are many types of expressions in python.\\n1: Constant expressions: These expressions have constant values only.\\n    Example: x = 15 + 1.3 =>Output = 16.3. Which is fixed value.\\n\\n2: Arithmetic Expressions: These contains numeric values, operators and paranthesis.\\n    The result of these expressions are always numeric value.\\n    Example: + is an operator which is used fotr addition operarion.\\n\\n3: Integral Expressions: These are expressions which could have various data types,\\n    but the result at the end would be integer only. So in this type of expressions\\n    we need to do type conversions of different expressions to integer type.\\n    For example: a = 13, b = 10.0\\n                    c = a + int(b)\\n                    print(c)\\n    In this example variable a has integer value while b is float. So we need to convert data type of b to integer.\\n    \\n'"
      ]
     },
     "execution_count": 5,
     "metadata": {},
     "output_type": "execute_result"
    }
   ],
   "source": [
    "'''\n",
    "An expression is a combination of operators and operands that is interpreted to produce some other value.\n",
    "There are many types of expressions in python.\n",
    "1: Constant expressions: These expressions have constant values only.\n",
    "    Example: x = 15 + 1.3 =>Output = 16.3. Which is fixed value.\n",
    "\n",
    "2: Arithmetic Expressions: These contains numeric values, operators and paranthesis.\n",
    "    The result of these expressions are always numeric value.\n",
    "    Example: + is an operator which is used fotr addition operarion.\n",
    "\n",
    "3: Integral Expressions: These are expressions which could have various data types,\n",
    "    but the result at the end would be integer only. So in this type of expressions\n",
    "    we need to do type conversions of different expressions to integer type.\n",
    "    For example: a = 13, b = 10.0\n",
    "                    c = a + int(b)\n",
    "                    print(c)\n",
    "    In this example variable a has integer value while b is float. So we need to convert data type of b to integer.\n",
    "    \n",
    "'''\n"
   ]
  },
  {
   "cell_type": "code",
   "execution_count": 6,
   "id": "eb50ba89",
   "metadata": {},
   "outputs": [
    {
     "data": {
      "text/plain": [
       "'Difference between expression and statement\\nExpression has values and function which can give some other value after comining.\\nBut statement are often composed of expressions or other statements.\\n\\nStatement cannot produce any value standalone. They always require atleast one expression.\\nFor example:\\n\"if\" is a statement but it should also have conditional erxpressions.\\n    if x<=0:\\n      print (\"x\")\\nHere if is statement while x<=0 is conditional statement.\\n\\n'"
      ]
     },
     "execution_count": 6,
     "metadata": {},
     "output_type": "execute_result"
    }
   ],
   "source": [
    "'''Difference between expression and statement\n",
    "Expression has values and function which can give some other value after comining.\n",
    "But statement are often composed of expressions or other statements.\n",
    "\n",
    "Statement cannot produce any value standalone. They always require atleast one expression.\n",
    "For example:\n",
    "\"if\" is a statement but it should also have conditional erxpressions.\n",
    "    if x<=0:\n",
    "      print (\"x\")\n",
    "Here if is statement while x<=0 is conditional statement.\n",
    "\n",
    "'''"
   ]
  },
  {
   "cell_type": "code",
   "execution_count": 8,
   "id": "d3d4ca4a",
   "metadata": {},
   "outputs": [
    {
     "data": {
      "text/plain": [
       "'So running the code we can see that bacon now contains the value of 23. \\nThis is becuase bacon is variable and its data type is integer and when it is operated with \"+\" operator it is goin to hold 23. '"
      ]
     },
     "execution_count": 8,
     "metadata": {},
     "output_type": "execute_result"
    }
   ],
   "source": [
    "# RUnning the code what des variable contain?\n",
    "\n",
    "bacon = 22\n",
    "bacon + 1\n",
    "'''So running the code we can see that bacon now contains the value of 23. \n",
    "This is becuase bacon is variable and its data type is integer and when it is operated with \"+\" operator it is goin to hold 23. '''"
   ]
  },
  {
   "cell_type": "code",
   "execution_count": 12,
   "id": "0a083505",
   "metadata": {},
   "outputs": [],
   "source": [
    "#'spam' + 'spamspam'\n",
    "#will have the value 'spamspamspam', becuase both are of same data type \"string\".\n",
    "\n",
    "#'spam'*3\n",
    "#this will also give the result 'spamspamspam'. In python we can multiply string number of times."
   ]
  },
  {
   "cell_type": "code",
   "execution_count": 13,
   "id": "82443ad9",
   "metadata": {},
   "outputs": [
    {
     "data": {
      "text/plain": [
       "'In python, there are some rules to assign variable name. \\nSo as per rule we cannot assign variable as integer number while we can assing string as a varibale'"
      ]
     },
     "execution_count": 13,
     "metadata": {},
     "output_type": "execute_result"
    }
   ],
   "source": [
    "'''In python, there are some rules to assign variable name. \n",
    "So as per rule we cannot assign variable as integer number while we can assing string as a varibale.\n",
    "So therefor eggs is valid variable while 100 is invalid''' "
   ]
  },
  {
   "cell_type": "code",
   "execution_count": 15,
   "id": "0b27c503",
   "metadata": {},
   "outputs": [
    {
     "data": {
      "text/plain": [
       "'We can use int(), float(), and str() functions to have integer, floating point and string data type respectively'"
      ]
     },
     "execution_count": 15,
     "metadata": {},
     "output_type": "execute_result"
    }
   ],
   "source": [
    "'''We can use int(), float(), and str() functions to have integer, floating point and string data type respectively'''"
   ]
  },
  {
   "cell_type": "code",
   "execution_count": 18,
   "id": "48fb24cc",
   "metadata": {},
   "outputs": [
    {
     "data": {
      "text/plain": [
       "'I have eaten 99 burritos'"
      ]
     },
     "execution_count": 18,
     "metadata": {},
     "output_type": "execute_result"
    }
   ],
   "source": [
    "#'I have eaten' + 99 + 'burritos'\n",
    "#This expression contains \"I have eaten\" and \"burritos\" as string while 99 is an integer.\n",
    "#So to correct it we can write it as follows:\n",
    "'I have eaten ' + str(99) + ' burritos'\n"
   ]
  },
  {
   "cell_type": "code",
   "execution_count": null,
   "id": "0355f303",
   "metadata": {},
   "outputs": [],
   "source": []
  }
 ],
 "metadata": {
  "kernelspec": {
   "display_name": "Python 3 (ipykernel)",
   "language": "python",
   "name": "python3"
  },
  "language_info": {
   "codemirror_mode": {
    "name": "ipython",
    "version": 3
   },
   "file_extension": ".py",
   "mimetype": "text/x-python",
   "name": "python",
   "nbconvert_exporter": "python",
   "pygments_lexer": "ipython3",
   "version": "3.9.7"
  }
 },
 "nbformat": 4,
 "nbformat_minor": 5
}
