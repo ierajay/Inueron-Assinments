{
 "cells": [
  {
   "cell_type": "code",
   "execution_count": 7,
   "id": "3db39c1f-08e0-4c6b-af94-6fe97cef0ea4",
   "metadata": {},
   "outputs": [
    {
     "data": {
      "text/plain": [
       "'\\n1. Is the Python Standard Library included with PyInputPlus?\\n❌ No, PyInputPlus is not included in the Python Standard Library.\\n\\nWe must install it manually using:\\n\\n!pip install --user pyinputplus '"
      ]
     },
     "execution_count": 7,
     "metadata": {},
     "output_type": "execute_result"
    }
   ],
   "source": [
    "'''\n",
    "1. Is the Python Standard Library included with PyInputPlus?\n",
    "❌ No, PyInputPlus is not included in the Python Standard Library.\n",
    "\n",
    "We must install it manually using:\n",
    "\n",
    "!pip install --user pyinputplus '''"
   ]
  },
  {
   "cell_type": "code",
   "execution_count": null,
   "id": "3401dc22-5ac6-4725-bff6-21e8670f2238",
   "metadata": {},
   "outputs": [],
   "source": [
    "'''\n",
    "2. Why is PyInputPlus commonly imported with import pyinputplus as pypi?\n",
    "This is done for convenience and readability.\n",
    "\n",
    "Instead of writing:\n",
    "pyinputplus.inputInt()\n",
    "pyinputplus.inputStr()\n",
    "We can write:\n",
    "pypi.inputInt()\n",
    "pypi.inputStr()\n",
    "'''"
   ]
  },
  {
   "cell_type": "code",
   "execution_count": null,
   "id": "068f945c-348d-446a-bbb8-8ecc8742ceee",
   "metadata": {},
   "outputs": [],
   "source": [
    "'''\n",
    "3.How do you distinguish between inputInt() and inputFloat()?\n",
    "Answer: Use inputInt() when only whole numbers are valid.\n",
    "Use inputFloat() when decimals are allowed too.\n",
    "'''"
   ]
  },
  {
   "cell_type": "code",
   "execution_count": null,
   "id": "752f6d02-6794-45a2-b6a5-092f585ebfea",
   "metadata": {},
   "outputs": [],
   "source": [
    "'''\n",
    "4. Using PyInputPlus, how do you ensure that the user enters a whole number between 0 and 99?\n",
    "You can use the min and max arguments of inputInt():\n",
    "import pyinputplus as pypi\n",
    "number = pypi.inputInt(\"Enter a number (0–99): \", min=0, max=99)\n",
    "'''"
   ]
  },
  {
   "cell_type": "code",
   "execution_count": null,
   "id": "b108fbad-9cb7-4dee-908b-3f7dbc760d05",
   "metadata": {},
   "outputs": [],
   "source": [
    "'''\n",
    "5. What is transferred to the keyword arguments allowRegexes and blockRegexes?\n",
    "allowRegexes: List of regex patterns the input is allowed to match, even if it would normally be rejected.\n",
    "blockRegexes: List of regex patterns that will block the input, even if it would normally be valid.\n",
    "'''"
   ]
  },
  {
   "cell_type": "code",
   "execution_count": null,
   "id": "87677e69-3869-404d-929f-7c339e8cc2e1",
   "metadata": {},
   "outputs": [],
   "source": [
    "'''\n",
    "6. If a blank input is entered three times, what does inputStr(limit=3) do?\n",
    "It will prompt the user 3 times.\n",
    "If all 3 inputs are invalid (blank), it raises an exception:\n",
    "import pyinputplus as pypi\n",
    "pypi.inputStr(prompt=\"Enter your name: \", limit=3)\n",
    "\n",
    "Output after 3 blank tries:\n",
    "pyinputplus.RetryLimitException\n",
    "'''\n"
   ]
  },
  {
   "cell_type": "code",
   "execution_count": null,
   "id": "f6854a2d-ac94-430b-9e71-7f76a8955e16",
   "metadata": {},
   "outputs": [],
   "source": [
    "'''\n",
    "7. If blank input is entered three times, what does inputStr(limit=3, default='hello') do?\n",
    "Answer: Instead of raising an error, it returns 'hello' after 3 failed attempts.\n",
    "\n",
    "Example:\n",
    "name = pypi.inputStr(prompt=\"Enter name: \", limit=3, default='hello')\n",
    "print(name)\n",
    "Output after 3 blank tries:\n",
    "hello\n",
    "'''\n"
   ]
  },
  {
   "cell_type": "code",
   "execution_count": null,
   "id": "238bb19a-e5ef-454e-b581-20f3538c22dd",
   "metadata": {},
   "outputs": [],
   "source": []
  }
 ],
 "metadata": {
  "kernelspec": {
   "display_name": "Python [conda env:base] *",
   "language": "python",
   "name": "conda-base-py"
  },
  "language_info": {
   "codemirror_mode": {
    "name": "ipython",
    "version": 3
   },
   "file_extension": ".py",
   "mimetype": "text/x-python",
   "name": "python",
   "nbconvert_exporter": "python",
   "pygments_lexer": "ipython3",
   "version": "3.13.5"
  }
 },
 "nbformat": 4,
 "nbformat_minor": 5
}
