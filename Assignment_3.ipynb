{
 "cells": [
  {
   "cell_type": "code",
   "execution_count": 2,
   "id": "c0c4248b-19aa-43c0-b8f2-98201791079f",
   "metadata": {},
   "outputs": [],
   "source": [
    "#1. Why are functions advantageous to have in your programs?\n",
    "#Functions promote code reusability by allowing you to write code once and use it multiple times.\n",
    "#They make programs easier to read, test, and maintain by breaking tasks into smaller, manageable pieces.\n",
    "#Functions help with the organization of code and allow for easier debugging and troubleshooting."
   ]
  },
  {
   "cell_type": "code",
   "execution_count": 3,
   "id": "7a7f70ee-43c7-40af-9560-6caa013c34eb",
   "metadata": {},
   "outputs": [],
   "source": [
    "#2. When does the code in a function run: when it’s specified or when it’s called?\n",
    "#The code inside a function runs only when the function is called, not when it is defined."
   ]
  },
  {
   "cell_type": "code",
   "execution_count": 5,
   "id": "21b9a08b-da31-403e-9550-f51f5c389868",
   "metadata": {},
   "outputs": [],
   "source": [
    "#3. What statement creates a function?\n",
    "#The def statement is used to create (define) a function in Python.\n",
    "#For example:\n",
    "def myfunc():\n",
    "    pass"
   ]
  },
  {
   "cell_type": "code",
   "execution_count": 6,
   "id": "fcffb1ff-520d-4879-8753-42fa247f84ca",
   "metadata": {},
   "outputs": [],
   "source": [
    "#4. What is the difference between a function and a function call?\n",
    "#A function is a block of code designed to perform a certain task; it is defined using def.\n",
    "#A function call is the action of executing the code in a function using its name followed by parentheses (e.g., my_function())."
   ]
  },
  {
   "cell_type": "code",
   "execution_count": 7,
   "id": "24fb6628-5e9a-43b7-8211-7e60fff6cd3b",
   "metadata": {},
   "outputs": [],
   "source": [
    "#5. How many global scopes are there in a Python program? How many local scopes?\n",
    "#There is one global scope per Python program.\n",
    "#Each function call creates its own local scope, and there can be many local scopes during program execution."
   ]
  },
  {
   "cell_type": "code",
   "execution_count": 8,
   "id": "f12c66b5-7d4b-4509-ab0f-f68cf88fcb58",
   "metadata": {},
   "outputs": [],
   "source": [
    "#6. What happens to variables in a local scope when the function call returns?\n",
    "#Variables in a local scope are destroyed when the function call returns. They cease to exist outside the function."
   ]
  },
  {
   "cell_type": "code",
   "execution_count": 9,
   "id": "f55b6aa7-1b7b-4c44-8bb5-32e64f98af49",
   "metadata": {},
   "outputs": [],
   "source": [
    "#7. What is the concept of a return value? Is it possible to have a return value in an expression?\n",
    "#A return value is the data that a function sends back to the caller using the return statement.\n",
    "#Yes, the return value of a function can be used in expressions (e.g., result = add(2, 3) * 10)."
   ]
  },
  {
   "cell_type": "code",
   "execution_count": 10,
   "id": "db3f55bf-4db2-45f5-be98-7b9646051e6c",
   "metadata": {},
   "outputs": [],
   "source": [
    "#8. If a function does not have a return statement, what is the return value of a call to that function?\n",
    "#If a function does not have a return statement, it returns None by default."
   ]
  },
  {
   "cell_type": "code",
   "execution_count": 11,
   "id": "20728112-8e3e-4950-9154-5ee7165a3bf4",
   "metadata": {},
   "outputs": [],
   "source": [
    "#9. How do you make a function variable refer to the global variable?\n",
    "#Use the global keyword inside the function to indicate that the variable refers to the global scope variable.\n",
    "#for example: global x\n"
   ]
  },
  {
   "cell_type": "code",
   "execution_count": 12,
   "id": "5a550af6-9c57-40f5-bbe8-13124ce7ca93",
   "metadata": {},
   "outputs": [],
   "source": [
    "#10. What is the data type of None?\n",
    "#The data type of None is NoneType."
   ]
  },
  {
   "cell_type": "code",
   "execution_count": 13,
   "id": "fe31bf99-11d0-4a94-859c-d65cac5c742d",
   "metadata": {},
   "outputs": [],
   "source": [
    "#11. What does the sentence import areallyourpetsnamederic do?\n",
    "#It attempts to import a module named areallyourpetsnamederic, which will fail unless such a module exists in your environment."
   ]
  },
  {
   "cell_type": "code",
   "execution_count": 14,
   "id": "a128748e-b924-48ba-8ba9-836baa2a5ae3",
   "metadata": {},
   "outputs": [],
   "source": [
    "#12. If you had a bacon() feature in a spam module, what would you call it after importing spam?\n",
    "#You would call it using dot notation: spam.bacon()"
   ]
  },
  {
   "cell_type": "code",
   "execution_count": 15,
   "id": "67a5b4f4-abc4-425b-a8db-c41307d5b2a8",
   "metadata": {},
   "outputs": [],
   "source": [
    "#13. What can you do to save a program from crashing if it encounters an error?\n",
    "#Use exception handling with try and except blocks to catch and handle errors gracefully."
   ]
  },
  {
   "cell_type": "code",
   "execution_count": 16,
   "id": "da9de6be-610e-4290-9287-95020ee27ef9",
   "metadata": {},
   "outputs": [],
   "source": [
    "#14. What is the purpose of the try clause? What is the purpose of the except clause?\n",
    "#The try clause is used to wrap code that might cause an exception.\n",
    "#The except clause is used to define how to handle specific exceptions if they occur during execution of the try block."
   ]
  },
  {
   "cell_type": "code",
   "execution_count": null,
   "id": "9cb075a9-ef33-489c-80e1-713ab5bed07d",
   "metadata": {},
   "outputs": [],
   "source": []
  }
 ],
 "metadata": {
  "kernelspec": {
   "display_name": "Python [conda env:base] *",
   "language": "python",
   "name": "conda-base-py"
  },
  "language_info": {
   "codemirror_mode": {
    "name": "ipython",
    "version": 3
   },
   "file_extension": ".py",
   "mimetype": "text/x-python",
   "name": "python",
   "nbconvert_exporter": "python",
   "pygments_lexer": "ipython3",
   "version": "3.13.5"
  }
 },
 "nbformat": 4,
 "nbformat_minor": 5
}
