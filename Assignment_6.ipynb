{
 "cells": [
  {
   "cell_type": "code",
   "execution_count": null,
   "id": "fc376327-6bab-4621-9350-f1356cc9bb28",
   "metadata": {},
   "outputs": [],
   "source": [
    "'''\n",
    "1. What are escape characters, and how do you use them?\n",
    "Answer: Escape characters are special sequences used to represent characters that are difficult or impossible to type directly into a string, like newlines or tabs.\n",
    "\n",
    "They start with a backslash (\\).\n",
    "Examples:\n",
    "\\n - newline\n",
    "\\t - tab\n",
    "\\\\ - backslash\n",
    "\\' - single quote\n",
    "\\\" - double quote\n",
    "'''\n"
   ]
  },
  {
   "cell_type": "code",
   "execution_count": null,
   "id": "70862f76-2891-4e9d-9106-e905bd33f3b3",
   "metadata": {},
   "outputs": [],
   "source": [
    "'''\n",
    "2. What do the escape characters \\n and \\t stand for?\n",
    "Answer: \\n = Newline\n",
    "\\t = Tab (horizontal tab, like a few spaces)\n",
    "'''\n"
   ]
  },
  {
   "cell_type": "code",
   "execution_count": null,
   "id": "f13c1c2e-1efd-4b7c-b870-762554dd0231",
   "metadata": {},
   "outputs": [],
   "source": [
    "'''\n",
    "3. What is the way to include backslash characters in a string?\n",
    "Answer: Use double backslashes: \\\\\n",
    "print(\"This is a backslash: \\\\\")\n",
    "Or use a raw string (prefix with r):\n",
    "print(r\"This is a backslash: \\ and \\n won't create newlines\")\n",
    "\n",
    "'''"
   ]
  },
  {
   "cell_type": "code",
   "execution_count": null,
   "id": "a19f8af4-6e53-4a2a-a5f6-faa3327a17be",
   "metadata": {},
   "outputs": [],
   "source": [
    "'''\n",
    "4. Why is \"Howl's Moving Castle\" a valid string even with a single quote?\n",
    "Answer\" Because the string is enclosed in double quotes, the single quote (') inside doesn't need escaping.\n",
    "\"Howl's Moving Castle\"  # Valid\n",
    "'Howl\\'s Moving Castle'  # Also valid using escape character\n",
    "'''"
   ]
  },
  {
   "cell_type": "code",
   "execution_count": null,
   "id": "300dcf47-19c8-4624-8815-579a28f720d2",
   "metadata": {},
   "outputs": [],
   "source": [
    "'''\n",
    "5. How do you write a string of newlines without using \\n?\n",
    "Answer: Use triple quotes (multi-line strings):\n",
    "text = \"\"\"Line 1\n",
    "Line 2\n",
    "Line 3\"\"\"\n",
    "print(text)\n",
    "'''"
   ]
  },
  {
   "cell_type": "code",
   "execution_count": null,
   "id": "798f836d-f19c-4c55-9369-a20681bb3c88",
   "metadata": {},
   "outputs": [],
   "source": [
    "'''\n",
    "6. What are the values of these expressions?\n",
    "Given: 'Hello, world!'\n",
    "'Hello, world!'[1]       Output - 'e'\n",
    "'Hello, world!'[0:5]     Output - 'Hello'\n",
    "'Hello, world!'[:5]      Output - 'Hello'\n",
    "'Hello, world!'[3:]      Output - 'lo, world!'\n",
    "'''"
   ]
  },
  {
   "cell_type": "code",
   "execution_count": null,
   "id": "c935963c-841f-436f-83f5-9828fafe1614",
   "metadata": {},
   "outputs": [],
   "source": [
    "'''\n",
    "7. What are the values of these expressions?\n",
    "'Hello'.upper()                Output - 'HELLO'\n",
    "'Hello'.upper().isupper()      Output - True\n",
    "'Hello'.upper().lower()        Output - 'hello'\n",
    "'''"
   ]
  },
  {
   "cell_type": "code",
   "execution_count": null,
   "id": "b1cbf4f6-72a8-4770-b874-5df4f09784ae",
   "metadata": {},
   "outputs": [],
   "source": [
    "'''\n",
    "8. What are the values of these expressions?\n",
    "'Remember, remember, the fifth of July.'.split()\n",
    "Output - ['Remember,', 'remember,', 'the', 'fifth', 'of', 'July.']\n",
    "\n",
    "'-'.join('There can only one.'.split())\n",
    "Output - 'There-can-only-one.'\n",
    "'''\n"
   ]
  },
  {
   "cell_type": "code",
   "execution_count": null,
   "id": "27f24471-4aed-4307-aea4-ec5d8b51f24d",
   "metadata": {},
   "outputs": [],
   "source": [
    "'''\n",
    "9. What are the methods for justifying strings?\n",
    "str.rjust(width) - Right justify\n",
    "\n",
    "str.ljust(width) - Left justify\n",
    "\n",
    "str.center(width) - Center align\n",
    "\n",
    "'''"
   ]
  },
  {
   "cell_type": "code",
   "execution_count": null,
   "id": "fffd83ae-20d1-4d56-a5a6-0d4dbcbdc4cc",
   "metadata": {},
   "outputs": [],
   "source": [
    "'''\n",
    "10. Best way to remove whitespace characters from the start or end?\n",
    "Answer; We can use strip() methods:\n",
    "\n",
    "str.strip() → removes from both ends\n",
    "\n",
    "str.lstrip() → removes from left (start)\n",
    "\n",
    "str.rstrip() → removes from right (end)\n",
    "\n",
    "'''"
   ]
  }
 ],
 "metadata": {
  "kernelspec": {
   "display_name": "Python [conda env:base] *",
   "language": "python",
   "name": "conda-base-py"
  },
  "language_info": {
   "codemirror_mode": {
    "name": "ipython",
    "version": 3
   },
   "file_extension": ".py",
   "mimetype": "text/x-python",
   "name": "python",
   "nbconvert_exporter": "python",
   "pygments_lexer": "ipython3",
   "version": "3.13.5"
  }
 },
 "nbformat": 4,
 "nbformat_minor": 5
}
