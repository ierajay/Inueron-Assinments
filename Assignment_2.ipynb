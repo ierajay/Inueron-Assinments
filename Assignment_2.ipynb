{
 "cells": [
  {
   "cell_type": "code",
   "execution_count": 10,
   "id": "6a7c2dd4",
   "metadata": {},
   "outputs": [
    {
     "data": {
      "text/plain": [
       "'\\n\"Q1 (Ans):\\n    Two type of boolean data types are True and False.\\n    We can write them by assigning True or False value to the varibale.\\n    For example:\\n        a= true\\n        b= false\\n    Then varibale a will store boolean data type which has value true and b will store boolean data type which has value false.\\n    Booleans can be considered as numberic type in python.\\n    For example:\\n        true==1\\n        false== 0\\n        Then \\n        true + (false/true) will give us result as 1'"
      ]
     },
     "execution_count": 10,
     "metadata": {},
     "output_type": "execute_result"
    }
   ],
   "source": [
    "\n",
    "\"\"\"\n",
    "\"Q1 (Ans):\n",
    "    Two type of boolean data types are True and False.\n",
    "    We can write them by assigning True or False value to the varibale.\n",
    "    For example:\n",
    "        a= true\n",
    "        b= false\n",
    "    Then varibale a will store boolean data type which has value true and b will store boolean data type which has value false.\n",
    "    Booleans can be considered as numberic type in python.\n",
    "    For example:\n",
    "        true==1\n",
    "        false== 0\n",
    "        Then \n",
    "        true + (false/true) will give us result as 1\"\"\"\n",
    "        "
   ]
  },
  {
   "cell_type": "code",
   "execution_count": 11,
   "id": "6d46b7b8",
   "metadata": {},
   "outputs": [
    {
     "data": {
      "text/plain": [
       "'Three different types of boolean operators:\\n\\n1: NOT operator:\\nThis is an one argument operator. It takes one argument and return opposite result.\\nFor example:\\n    a = True then not A will return False and vice versa\\n2: AND Operator:\\nThis operator takes two arguments and returns FALSE unless both the arguments are true.\\nFor example:\\n    a= True\\n    b= False\\n    then a AND b will return False.\\n    but suppose,\\n    a= true b= true then \\n    a AND b will return True.\\n3: OR operator:\\nThis operator also takes two arguments and returns TRUE unless both the arguments are FALSE.\\nFor Example:\\n    a= True\\n    b= False\\n    then a OR b will return True.\\n    Only when a= False and b= False\\n    then only a OR b will return False.'"
      ]
     },
     "execution_count": 11,
     "metadata": {},
     "output_type": "execute_result"
    }
   ],
   "source": [
    "\"\"\"Three different types of boolean operators:\n",
    "\n",
    "1: NOT operator:\n",
    "This is an one argument operator. It takes one argument and return opposite result.\n",
    "For example:\n",
    "    a = True then not A will return False and vice versa\n",
    "2: AND Operator:\n",
    "This operator takes two arguments and returns FALSE unless both the arguments are true.\n",
    "For example:\n",
    "    a= True\n",
    "    b= False\n",
    "    then a AND b will return False.\n",
    "    but suppose,\n",
    "    a= true b= true then \n",
    "    a AND b will return True.\n",
    "3: OR operator:\n",
    "This operator also takes two arguments and returns TRUE unless both the arguments are FALSE.\n",
    "For Example:\n",
    "    a= True\n",
    "    b= False\n",
    "    then a OR b will return True.\n",
    "    Only when a= False and b= False\n",
    "    then only a OR b will return False.\"\"\""
   ]
  },
  {
   "cell_type": "code",
   "execution_count": 12,
   "id": "60dcd6a3",
   "metadata": {},
   "outputs": [
    {
     "data": {
      "text/plain": [
       "'\\nQ3 (Ans)Truth table for every operator:\\nTruth table for NOT operator:\\na        NOT a\\nFalse    True\\nTrue     False\\n\\nTruth Table for AND operator:\\n a       b     a AND b\\n True  False    False\\n False True     False\\n False False    False\\n True  True      True\\n \\n Truth Table for OR operator:\\n a       b     a OR b\\n True  False    True\\n False True     True\\n False False    False\\n True  True     True\\n \\n \\n'"
      ]
     },
     "execution_count": 12,
     "metadata": {},
     "output_type": "execute_result"
    }
   ],
   "source": [
    "\"\"\"\n",
    "Q3 (Ans)Truth table for every operator:\n",
    "Truth table for NOT operator:\n",
    "a        NOT a\n",
    "False    True\n",
    "True     False\n",
    "\n",
    "Truth Table for AND operator:\n",
    " a       b     a AND b\n",
    " True  False    False\n",
    " False True     False\n",
    " False False    False\n",
    " True  True      True\n",
    " \n",
    " Truth Table for OR operator:\n",
    " a       b     a OR b\n",
    " True  False    True\n",
    " False True     True\n",
    " False False    False\n",
    " True  True     True\n",
    " \n",
    " \n",
    "\"\"\"\n"
   ]
  },
  {
   "cell_type": "code",
   "execution_count": 20,
   "id": "7a27b29c",
   "metadata": {},
   "outputs": [
    {
     "data": {
      "text/plain": [
       "'\\nQ4 (Ans): Values of different operation:\\n        (5 > 4) and (3 == 5): False\\n        not (5 > 4) : False \\n        (5 > 4) or (3 == 5): True\\n        not ((5 > 4) or (3 == 5)): False\\n        (True and True) and (True == False): False\\n        (not False) or (not True): True\\n'"
      ]
     },
     "execution_count": 20,
     "metadata": {},
     "output_type": "execute_result"
    }
   ],
   "source": [
    "\"\"\"\n",
    "Q4 (Ans): Values of different operation:\n",
    "        (5 > 4) and (3 == 5): False\n",
    "        not (5 > 4) : False \n",
    "        (5 > 4) or (3 == 5): True\n",
    "        not ((5 > 4) or (3 == 5)): False\n",
    "        (True and True) and (True == False): False\n",
    "        (not False) or (not True): True\n",
    "\"\"\""
   ]
  },
  {
   "cell_type": "code",
   "execution_count": 1,
   "id": "cdcd0ddb",
   "metadata": {},
   "outputs": [
    {
     "data": {
      "text/plain": [
       "'\\nQ5 (Ans): 6 comarison operators:\\n1) Equality operator (==):\\nIt is used to compare unknown result with known result.It is commonly used to compare numbers.\\nFor example:\\n    1 == 1 then boolean result will be true.\\n    1 == 1.0 again the boolean result will be true, but\\n    1 == 2 then the boolean result will be false.\\n    \\n2) Inequality operator (!=):\\nIt is also used to compare the numbers, but here it will return true when the two compared numbers are not equal and vice versa.\\nFor example:\\n    1 != 2 then output will true.\\n    1 != 1 then output will be false.\\n\\n3) Order comparison:\\n    There are 4 order comparison operator.\\n              Less than      Greater than\\nStrict             <              >\\nNot strict          <=            >=\\n\\nThe abpve mentioned are the 6 comparison operators.\\n'"
      ]
     },
     "execution_count": 1,
     "metadata": {},
     "output_type": "execute_result"
    }
   ],
   "source": [
    "\"\"\"\n",
    "Q5 (Ans): 6 comarison operators:\n",
    "1) Equality operator (==):\n",
    "It is used to compare unknown result with known result.It is commonly used to compare numbers.\n",
    "For example:\n",
    "    1 == 1 then boolean result will be true.\n",
    "    1 == 1.0 again the boolean result will be true, but\n",
    "    1 == 2 then the boolean result will be false.\n",
    "    \n",
    "2) Inequality operator (!=):\n",
    "It is also used to compare the numbers, but here it will return true when the two compared numbers are not equal and vice versa.\n",
    "For example:\n",
    "    1 != 2 then output will true.\n",
    "    1 != 1 then output will be false.\n",
    "\n",
    "3) Order comparison:\n",
    "    There are 4 order comparison operator.\n",
    "              Less than      Greater than\n",
    "Strict             <              >\n",
    "Not strict          <=            >=\n",
    "\n",
    "The abpve mentioned are the 6 comparison operators.\n",
    "\"\"\""
   ]
  },
  {
   "cell_type": "code",
   "execution_count": 4,
   "id": "340be4b8",
   "metadata": {},
   "outputs": [
    {
     "data": {
      "text/plain": [
       "'\\nQ6 (Ans): Difference between equal to and assignment operators\\nAssignment operators are used to assign the value to the left hand varialbles. \\nFor example:\\n a = 4\\n b = 10\\n c = 2.5\\n d = \"Ajay\" \\nThe ‘==’ operator checks whether the two given operands are equal or not. If so, it returns true.\\nFor example:\\n    2 == 2 then it will return true,\\n    2 != 2 then it will return false.\\n    \"a\" == \"a\" then also True \\nSo in this way we can differentiate between equal to and assignment operator.\\n'"
      ]
     },
     "execution_count": 4,
     "metadata": {},
     "output_type": "execute_result"
    }
   ],
   "source": [
    "\"\"\"\n",
    "Q6 (Ans): Difference between equal to and assignment operators\n",
    "Assignment operators are used to assign the value to the left hand varialbles. \n",
    "For example:\n",
    " a = 4\n",
    " b = 10\n",
    " c = 2.5\n",
    " d = \"Ajay\" \n",
    "The ‘==’ operator checks whether the two given operands are equal or not. If so, it returns true.\n",
    "For example:\n",
    "    2 == 2 then it will return true,\n",
    "    2 != 2 then it will return false.\n",
    "    \"a\" == \"a\" then also True \n",
    "So in this way we can differentiate between equal to and assignment operator.\n",
    "\"\"\""
   ]
  },
  {
   "cell_type": "code",
   "execution_count": 7,
   "id": "4ed18e6f",
   "metadata": {},
   "outputs": [
    {
     "name": "stdout",
     "output_type": "stream",
     "text": [
      "ham\n",
      "spam\n",
      "spam\n"
     ]
    }
   ],
   "source": [
    "spam = 0\n",
    "if spam == 10:\n",
    "    print('eggs') #First Block\n",
    "\n",
    "if spam > 5:\n",
    "    print('bacon') # Second Block\n",
    "else:\n",
    "    print('ham') # Third block\n",
    "    print('spam')\n",
    "    print('spam')"
   ]
  },
  {
   "cell_type": "code",
   "execution_count": 15,
   "id": "8c377da0",
   "metadata": {},
   "outputs": [
    {
     "name": "stdout",
     "output_type": "stream",
     "text": [
      "Greetings\n"
     ]
    }
   ],
   "source": [
    "\"\"\"\n",
    "Q8 (Ans):\n",
    "\"\"\"\n",
    "spam = 0\n",
    "if spam == 1:\n",
    "    print(\"Hello\")\n",
    "elif spam == 2:\n",
    "    print(\"Howdy\")\n",
    "else:\n",
    "    print(\"Greetings\")\n"
   ]
  },
  {
   "cell_type": "code",
   "execution_count": 9,
   "id": "37d7fc8c",
   "metadata": {},
   "outputs": [],
   "source": [
    "\"\"\"\n",
    "Q9 (Ans): ctrl + c\n",
    "\"\"\""
   ]
  },
  {
   "cell_type": "code",
   "execution_count": 4,
   "id": "436738b4",
   "metadata": {},
   "outputs": [
    {
     "data": {
      "text/plain": [
       "'\\nQ10 (Ans): Difference between break and continue statement:\\n\\nBreak Statement:\\nIt terminates the current working loop and passes the control to the next statement,\\nand if the break statement resides inside the nested loop, it passes control to the outer loop.\\nIt can be used with both while and for loops.\\nFor example:\\n\\ni = 1\\nfor i in range(10):\\n    if i == 6:\\n        break\\n    else:\\n        print(i)\\n\\nIn the program output will be from 0 to 5. Once i is equalt to 6 than for loop gets break.\\n\\nContinue statement:\\nIt is the second form of the Loop Control Statement, very similar to the break statement.\\nBut when it comes to the working of the continue statement,\\nit works just opposite to the break statement.\\nInstead of terminating certain conditions, it jumps off to the very next condition. \\nBut it will continue the execution of the loop statement as per its name. \\nFor example:\\n\\ni = 1\\nfor i in range(10):\\n    if i == 6:\\n        continue\\n    else:\\n        print(i)\\n\\nIn this case loop will start iterating conditions one by one and execute them but once\\ncondition becomes i == 6 then continue statement will skip this condition and will continue the\\nloop for other conditions. So in this case output will be \\n0\\n1\\n2\\n3\\n4\\n5\\n7\\n8\\n9\\n\\nNumber 6 will be skipped by continue statement.\\n\\n'"
      ]
     },
     "execution_count": 4,
     "metadata": {},
     "output_type": "execute_result"
    }
   ],
   "source": [
    "\"\"\"\n",
    "Q10 (Ans): Difference between break and continue statement:\n",
    "\n",
    "Break Statement:\n",
    "It terminates the current working loop and passes the control to the next statement,\n",
    "and if the break statement resides inside the nested loop, it passes control to the outer loop.\n",
    "It can be used with both while and for loops.\n",
    "For example:\n",
    "\n",
    "for i in range(10):\n",
    "    if i == 6:\n",
    "        break\n",
    "    else:\n",
    "        print(i)\n",
    "\n",
    "In the program output will be from 0 to 5. Once i is equalt to 6 than for loop gets break.\n",
    "\n",
    "Continue statement:\n",
    "It is the second form of the Loop Control Statement, very similar to the break statement.\n",
    "But when it comes to the working of the continue statement,\n",
    "it works just opposite to the break statement.\n",
    "Instead of terminating certain conditions, it jumps off to the very next condition. \n",
    "But it will continue the execution of the loop statement as per its name. \n",
    "For example:\n",
    "\n",
    "for i in range(10):\n",
    "    if i == 6:\n",
    "        continue\n",
    "    else:\n",
    "        print(i)\n",
    "\n",
    "In this case loop will start iterating conditions one by one and execute them but once\n",
    "condition becomes i == 6 then continue statement will skip this condition and will continue the\n",
    "loop for other conditions. So in this case output will be \n",
    "0\n",
    "1\n",
    "2\n",
    "3\n",
    "4\n",
    "5\n",
    "7\n",
    "8\n",
    "9\n",
    "\n",
    "Number 6 will be skipped by continue statement.\n",
    "\n",
    "\"\"\""
   ]
  },
  {
   "cell_type": "code",
   "execution_count": 10,
   "id": "fc78decf",
   "metadata": {},
   "outputs": [
    {
     "data": {
      "text/plain": [
       "'\\nDifference between range(10), range(0,10) and range(0,10,1)\\n\\nIn a for loop range(10) means it will start checking value of varible i (say) from 0 to 9.\\nBut in the case of range(0,10) it will start from 0 till 9 as the previous one but suppose \\nin the place of 0 range(1,10) was written then it would start checking conditons from 1 to 9 only.\\nIn the case of range(0,10,1), loop will start checking conditions from 0 to 10 with difference of 1 number each time.\\nSuppose in the place of 1 , 2 was there then range(0,10,2) would start executing conditions from 0 to 9 by skiping one number at a time.\\n0,2,4,6,8 like this.\\n\\n'"
      ]
     },
     "execution_count": 10,
     "metadata": {},
     "output_type": "execute_result"
    }
   ],
   "source": [
    "\"\"\"\n",
    "Difference between range(10), range(0,10) and range(0,10,1)\n",
    "All will execute same result but there is slight difference in them.\n",
    "\n",
    "In a for loop range(10) means it will start checking value of varible i (say) from 0 to 9.\n",
    "But in the case of range(0,10) it will start from 0 till 9 as the previous one but suppose \n",
    "in the place of 0 range(1,10) was written then it would start checking conditons from 1 to 9 only.\n",
    "In the case of range(0,10,1), loop will start checking conditions from 0 to 10 with difference of 1 number each time.\n",
    "Suppose in the place of 1 , 2 was there then range(0,10,2) would start executing conditions from 0 to 9 by skiping one number at a time.\n",
    "0,2,4,6,8 like this.\n",
    "\n",
    "\"\"\""
   ]
  },
  {
   "cell_type": "code",
   "execution_count": 11,
   "id": "4023c5ab",
   "metadata": {},
   "outputs": [
    {
     "name": "stdout",
     "output_type": "stream",
     "text": [
      "0\n",
      "1\n",
      "2\n",
      "3\n",
      "4\n",
      "5\n",
      "6\n",
      "7\n",
      "8\n",
      "9\n",
      "10\n"
     ]
    }
   ],
   "source": [
    "#Q12 (Ans):\n",
    "\n",
    "for i in range(11):\n",
    "        print(i)"
   ]
  },
  {
   "cell_type": "code",
   "execution_count": 1,
   "id": "0fc7f37e",
   "metadata": {},
   "outputs": [
    {
     "name": "stdout",
     "output_type": "stream",
     "text": [
      "1\n",
      "2\n",
      "3\n",
      "4\n",
      "5\n",
      "6\n",
      "7\n",
      "8\n",
      "9\n",
      "10\n"
     ]
    }
   ],
   "source": [
    "#Q12 (Ans):\n",
    "i=1\n",
    "while (i<=10):\n",
    "    print(i)\n",
    "    i= i+1"
   ]
  },
  {
   "cell_type": "code",
   "execution_count": null,
   "id": "e8645376",
   "metadata": {},
   "outputs": [],
   "source": [
    "#Q13 (Ans):\n",
    "This function can be called with spam.bacon()."
   ]
  }
 ],
 "metadata": {
  "kernelspec": {
   "display_name": "Python 3 (ipykernel)",
   "language": "python",
   "name": "python3"
  },
  "language_info": {
   "codemirror_mode": {
    "name": "ipython",
    "version": 3
   },
   "file_extension": ".py",
   "mimetype": "text/x-python",
   "name": "python",
   "nbconvert_exporter": "python",
   "pygments_lexer": "ipython3",
   "version": "3.9.7"
  }
 },
 "nbformat": 4,
 "nbformat_minor": 5
}
