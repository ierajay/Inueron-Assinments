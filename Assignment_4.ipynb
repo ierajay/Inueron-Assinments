{
 "cells": [
  {
   "cell_type": "code",
   "execution_count": 2,
   "id": "f931c0d6-f49d-417d-9ff7-208233c6351d",
   "metadata": {},
   "outputs": [
    {
     "data": {
      "text/plain": [
       "\"1. What exactly is []?\\n[] is an empty list in Python. It's a list with no elements.\""
      ]
     },
     "execution_count": 2,
     "metadata": {},
     "output_type": "execute_result"
    }
   ],
   "source": [
    "'''\n",
    "1. What exactly is []?\n",
    "[] is an empty list in Python. It's a list with no elements.'''"
   ]
  },
  {
   "cell_type": "code",
   "execution_count": null,
   "id": "d2884495-96fa-4454-a226-97d5528b7d04",
   "metadata": {},
   "outputs": [],
   "source": [
    "'''\n",
    "2. How would you assign 'hello' as the third value in spam if spam = [2, 4, 6, 8, 10]?\n",
    "spam[2]= 'hello'\n",
    "'''"
   ]
  },
  {
   "cell_type": "code",
   "execution_count": 4,
   "id": "95b04186-0bbe-449c-a721-34d993b32468",
   "metadata": {},
   "outputs": [
    {
     "data": {
      "text/plain": [
       "'\\nahay\\n'"
      ]
     },
     "execution_count": 4,
     "metadata": {},
     "output_type": "execute_result"
    }
   ],
   "source": [
    "'''\n",
    "What is the value of spam[int(int('3' * 2) / 11)] if spam = ['a', 'b', 'c', 'd']?\n",
    "'3' * 2 >>> '33'\n",
    "int('33') >>> 33\n",
    "33 / 11 >>> 3.0\n",
    "int(3.0) >>> 3\n",
    "spam[3] >>> 'd'\n",
    "\n",
    "Answer: 'd'\n",
    "'''"
   ]
  },
  {
   "cell_type": "code",
   "execution_count": null,
   "id": "d2fcbb25-0ed1-48f0-a210-3d63913eff59",
   "metadata": {},
   "outputs": [],
   "source": [
    "'''\n",
    "4. What is the value of spam[-1] for spam = ['a', 'b', 'c', 'd']?\n",
    "Answer: 'd'\n",
    "Explanation: -1 accesses the last item in the list.\n",
    "\n",
    "'''"
   ]
  },
  {
   "cell_type": "code",
   "execution_count": null,
   "id": "390704a4-7265-431b-89d8-e3100fd4956b",
   "metadata": {},
   "outputs": [],
   "source": [
    "'''\n",
    "5. What is the value of spam[:2]?\n",
    "Answer: ['a', 'b']\n",
    "Explanation: This is list slicing from start up to index 2 (excluding 2).\n",
    "\n",
    "'''"
   ]
  },
  {
   "cell_type": "code",
   "execution_count": null,
   "id": "9ea723cd-90ae-49ed-a8b0-a0d654b0b39b",
   "metadata": {},
   "outputs": [],
   "source": [
    "'''\n",
    "6. What is the value of bacon.index('cat') if bacon = [3.14, 'cat', 11, 'cat', True]?\n",
    "Answer: 1\n",
    "Explanation: .index() returns the first occurrence of 'cat'.\n",
    "'''"
   ]
  },
  {
   "cell_type": "code",
   "execution_count": null,
   "id": "02e1adb9-7135-461c-b44b-d68cfbecdc51",
   "metadata": {},
   "outputs": [],
   "source": [
    "'''\n",
    "How does bacon.append(99) change the list?\n",
    "if bacon = [3.14, 'cat',11,'cat',True]\n",
    "It will be converted to bacon = [3.14,'cat',11,'cat',True,99]\n",
    "when bacon.append(99) operated.\n",
    " It adds 99 at the end of the list.\n",
    "'''"
   ]
  },
  {
   "cell_type": "code",
   "execution_count": null,
   "id": "7bfcc4e0-819e-49de-a47e-16106e1736c6",
   "metadata": {},
   "outputs": [],
   "source": [
    "'''\n",
    "How does bacon.remove('cat') change the list?\n",
    "It will remove the first 'cat' from the bacon list.\n",
    "bacon = [3.14, 11,'cat',True]\n",
    "'''"
   ]
  },
  {
   "cell_type": "code",
   "execution_count": null,
   "id": "5f210369-3b0f-417e-9440-5985d91d5651",
   "metadata": {},
   "outputs": [],
   "source": [
    "'''\n",
    "9. What are the list concatenation and list replication operators?\n",
    "Concatenation: +\n",
    "Replication: *\n",
    "\n",
    "For example: \n",
    "[1, 2] + [3, 4]  output =  [1, 2, 3, 4]\n",
    "[1, 2] * 2       output = [1, 2, 1, 2]\n",
    "'''"
   ]
  },
  {
   "cell_type": "code",
   "execution_count": null,
   "id": "fb5e5740-955c-4067-b8b2-ce3126e17a1d",
   "metadata": {},
   "outputs": [],
   "source": [
    "'''\n",
    "10. Difference between append() and insert()?\n",
    "append(value) - adds to the end of the list.\n",
    "insert(index, value) - adds at specific index, shifting other items.\n",
    "'''"
   ]
  },
  {
   "cell_type": "code",
   "execution_count": null,
   "id": "4c7155f5-ac4c-4331-979f-400c26e4c685",
   "metadata": {},
   "outputs": [],
   "source": [
    "'''\n",
    "11. Two methods for removing items from a list?\n",
    "remove(value) - removes first occurrence of value.\n",
    "del list[index] or pop(index) - removes by index.\n",
    "'''"
   ]
  },
  {
   "cell_type": "code",
   "execution_count": null,
   "id": "4fc9c4c1-8b6d-44bf-82cc-3627a91a1b51",
   "metadata": {},
   "outputs": [],
   "source": [
    "'''\n",
    "12. How are list values and string values identical?\n",
    "Both are sequences.\n",
    "We can Access items with indexing (x[0])\n",
    "Slice (x[1:3])\n",
    "Use len()\n",
    "Iterate with loops\n",
    "Use operators like in, +, *\n",
    "'''"
   ]
  },
  {
   "cell_type": "code",
   "execution_count": null,
   "id": "b03292a9-84e1-44ce-96ae-a6c7817e5f41",
   "metadata": {},
   "outputs": [],
   "source": [
    "'''\n",
    "13. Difference between tuples and lists?\n",
    "Feature\tList\t     Tuple\n",
    "Syntax\t[1, 2, 3]\t(1, 2, 3)\n",
    "Mutable\t Yes\t     No\n",
    "Methods\tMany (append, remove)\tVery few\n",
    "'''"
   ]
  },
  {
   "cell_type": "code",
   "execution_count": null,
   "id": "54b893c6-a463-4aef-b949-da7182e3f982",
   "metadata": {},
   "outputs": [],
   "source": [
    "'''\n",
    "14. Tuple with only integer 42?\n",
    "(42.)\n",
    "The comma is essential to make it a tuple.\n",
    "'''"
   ]
  },
  {
   "cell_type": "code",
   "execution_count": null,
   "id": "0ac75ae7-fd8e-48fd-8190-d0e36ad2ebc4",
   "metadata": {},
   "outputs": [],
   "source": [
    "'''\n",
    "15. How to convert between list and tuple?\n",
    "List to Tuple: tuple([1, 2, 3]) - (1, 2, 3)\n",
    "Tuple to List: list((1, 2, 3)) - [1, 2, 3]\n",
    "'''"
   ]
  }
 ],
 "metadata": {
  "kernelspec": {
   "display_name": "Python [conda env:base] *",
   "language": "python",
   "name": "conda-base-py"
  },
  "language_info": {
   "codemirror_mode": {
    "name": "ipython",
    "version": 3
   },
   "file_extension": ".py",
   "mimetype": "text/x-python",
   "name": "python",
   "nbconvert_exporter": "python",
   "pygments_lexer": "ipython3",
   "version": "3.13.5"
  }
 },
 "nbformat": 4,
 "nbformat_minor": 5
}
