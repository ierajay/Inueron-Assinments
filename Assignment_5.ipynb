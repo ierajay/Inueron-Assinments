{
 "cells": [
  {
   "cell_type": "code",
   "execution_count": null,
   "id": "c332b1c2-d53d-4eaa-ae01-3114d76bc1b6",
   "metadata": {},
   "outputs": [],
   "source": [
    "'''\n",
    "1. What does an empty dictionary's code look like?\n",
    "Answer: {}\n",
    "\n",
    "'''"
   ]
  },
  {
   "cell_type": "code",
   "execution_count": 1,
   "id": "6f886754-edc6-4fa1-9309-feeaf69e1333",
   "metadata": {},
   "outputs": [
    {
     "data": {
      "text/plain": [
       "\"\\n2. What is the value of a dictionary value with the key 'foo' and the value 42?\\nAnswer: {foo:42}\\n\""
      ]
     },
     "execution_count": 1,
     "metadata": {},
     "output_type": "execute_result"
    }
   ],
   "source": [
    "'''\n",
    "2. What is the value of a dictionary value with the key 'foo' and the value 42?\n",
    "Answer: {foo:42}\n",
    "'''"
   ]
  },
  {
   "cell_type": "code",
   "execution_count": null,
   "id": "ae3e2b94-b71b-4c43-b1f0-b664c008abc3",
   "metadata": {},
   "outputs": [],
   "source": [
    "'''\n",
    "3. What is the most significant distinction between a dictionary and a list?\n",
    "Answer:\n",
    "A list is an ordered collection of values, accessed by index.\n",
    "A dictionary is an unordered collection of key-value pairs, accessed by key.\n",
    "'''"
   ]
  },
  {
   "cell_type": "code",
   "execution_count": null,
   "id": "01f8b057-d60c-4994-a881-a94f14d67230",
   "metadata": {},
   "outputs": [],
   "source": [
    "'''\n",
    "4. What happens if you try to access spam['foo'] if spam = {'bar': 100}?\n",
    "Answer:\n",
    "It raises a KeyError because the key 'foo' does not exist in the dictionary.\n",
    "'''"
   ]
  },
  {
   "cell_type": "code",
   "execution_count": null,
   "id": "c651c2b8-2bff-46f6-9181-a622adb7a012",
   "metadata": {},
   "outputs": [],
   "source": [
    "'''\n",
    "5. If a dictionary is stored in spam, what is the difference between 'cat' in spam and 'cat' in spam.keys()?\n",
    "Answer:\n",
    "No difference — both check if 'cat' is a key in the dictionary.\n",
    "\n",
    "'cat' in spam          # True if 'cat' is a key\n",
    "'cat' in spam.keys()   # Same as above\n",
    "\n",
    "'''"
   ]
  },
  {
   "cell_type": "code",
   "execution_count": null,
   "id": "cbcac596-6dac-4471-adcd-e9b3ae3133a2",
   "metadata": {},
   "outputs": [],
   "source": [
    "'''\n",
    "6. What is the difference between 'cat' in spam and 'cat' in spam.values()?\n",
    "Answer:\n",
    "\n",
    "'cat' in spam - checks if 'cat' is a key.\n",
    "'cat' in spam.values() - checks if 'cat' is a value.\n",
    "spam = {'animal': 'cat'}\n",
    "'cat' in spam           # False\n",
    "'cat' in spam.values()  # True\n",
    "'''"
   ]
  },
  {
   "cell_type": "code",
   "execution_count": null,
   "id": "48540746-7818-403c-9a28-47c56ba2f310",
   "metadata": {},
   "outputs": [],
   "source": [
    "'''7. What is a shortcut for the following code?\n",
    "if 'color' not in spam:\n",
    "    spam['color'] = 'black'\n",
    "Answer: \n",
    "spam.setdefault('color', 'black')\n",
    "setdefault() checks if 'color' exists. If not, it sets it to 'black'.\n",
    "'''\n"
   ]
  },
  {
   "cell_type": "code",
   "execution_count": null,
   "id": "075b8e4e-e935-410c-a4bc-ca9da17baafb",
   "metadata": {},
   "outputs": [],
   "source": [
    "'''\n",
    "8. How do you \"pretty print\" dictionary values? Which module and function?\n",
    "Answer:\n",
    "I will use the pprint module and pprint() function:\n",
    "import pprint\n",
    "pprint.pprint(your_dict)\n",
    "'''"
   ]
  }
 ],
 "metadata": {
  "kernelspec": {
   "display_name": "Python [conda env:base] *",
   "language": "python",
   "name": "conda-base-py"
  },
  "language_info": {
   "codemirror_mode": {
    "name": "ipython",
    "version": 3
   },
   "file_extension": ".py",
   "mimetype": "text/x-python",
   "name": "python",
   "nbconvert_exporter": "python",
   "pygments_lexer": "ipython3",
   "version": "3.13.5"
  }
 },
 "nbformat": 4,
 "nbformat_minor": 5
}
