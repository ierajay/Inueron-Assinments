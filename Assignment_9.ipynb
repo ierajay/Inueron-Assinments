{
 "cells": [
  {
   "cell_type": "code",
   "execution_count": null,
   "id": "2d5ddfca-574a-47e3-be91-0e99e4178f52",
   "metadata": {},
   "outputs": [],
   "source": [
    "'''\n",
    "1. To what does a relative path refer?\n",
    "Answer: A relative path refers to a location that is relative to the current working directory. It does not start from the root directory.\n",
    "Example:\n",
    "If your current directory is C:\\Users\\Ajay\\Documents, then ..\\Pictures\\image.jpg is a relative path pointing to a file in the Pictures folder one level up.\n",
    "'''\n"
   ]
  },
  {
   "cell_type": "code",
   "execution_count": null,
   "id": "b3c1e61e-37f3-4780-b0fd-6398a0b3204a",
   "metadata": {},
   "outputs": [],
   "source": [
    "'''\n",
    "2. What does an absolute path start with your operating system?\n",
    "Answer: An absolute path starts from the root of the file system.\n",
    "On Windows, it usually starts with a drive letter, like C:\\ or D:\\.\n",
    "On Linux/macOS, it starts with a forward slash /, indicating the root directory.'''"
   ]
  },
  {
   "cell_type": "code",
   "execution_count": 2,
   "id": "9cf3ef48-3013-4b46-803f-99d18431e210",
   "metadata": {},
   "outputs": [
    {
     "data": {
      "text/plain": [
       "\"\\n3. What do the functions os.getcwd() and os.chdir() do?\\nAnswer: os.getcwd() – Returns the current working directory as a string.\\nos.chdir(path) – Changes the current working directory to the specified path.\\n\\n\\nimport os\\nprint(os.getcwd())          # Shows current directory\\nos.chdir('C:\\\\Users\\\\Ajay')  # Changes working directory\\n\""
      ]
     },
     "execution_count": 2,
     "metadata": {},
     "output_type": "execute_result"
    }
   ],
   "source": [
    "'''\n",
    "3. What do the functions os.getcwd() and os.chdir() do?\n",
    "Answer: os.getcwd() – Returns the current working directory as a string.\n",
    "os.chdir(path) – Changes the current working directory to the specified path.\n",
    "'''\n",
    "\n",
    "import os\n",
    "print(os.getcwd())          # Shows current directory\n",
    "os.chdir('C:\\\\Users\\\\Ajay')  # Changes working directory"
   ]
  },
  {
   "cell_type": "code",
   "execution_count": 4,
   "id": "bf5d8b04-aa23-43b6-a148-e9b93a64dd30",
   "metadata": {},
   "outputs": [
    {
     "data": {
      "text/plain": [
       "'\\n4. What are the . and .. folders?\\nAnswer: . refers to the current directory.\\n.. refers to the parent directory (one level up).\\nThey are commonly used in relative paths and navigation.\\n'"
      ]
     },
     "execution_count": 4,
     "metadata": {},
     "output_type": "execute_result"
    }
   ],
   "source": [
    "'''\n",
    "4. What are the . and .. folders?\n",
    "Answer: . refers to the current directory.\n",
    ".. refers to the parent directory (one level up).\n",
    "They are commonly used in relative paths and navigation.\n",
    "'''"
   ]
  },
  {
   "cell_type": "code",
   "execution_count": 7,
   "id": "2c9d47a6-399a-45f2-b171-f6228558da71",
   "metadata": {},
   "outputs": [
    {
     "data": {
      "text/plain": [
       "'\\n5. In C:\\x08acon\\\\eggs\\\\spam.txt, which part is the dir name, and which part is the base name?\\nAnswer: Dir name: C:\\x08acon\\\\eggs – the folder path.\\nBase name: spam.txt – the name of the file itself.\\nWe can get them using:\\nimport os\\nos.path.dirname(path)   # gives directory name\\nos.path.basename(path)  # gives file name\\n'"
      ]
     },
     "execution_count": 7,
     "metadata": {},
     "output_type": "execute_result"
    }
   ],
   "source": [
    "'''\n",
    "5. In C:\\bacon\\eggs\\spam.txt, which part is the dir name, and which part is the base name?\n",
    "Answer: Dir name: C:\\bacon\\eggs – the folder path.\n",
    "Base name: spam.txt – the name of the file itself.\n",
    "We can get them using:'''\n",
    "import os\n",
    "os.path.dirname(path)   # gives directory name\n",
    "os.path.basename(path)  # gives file name\n"
   ]
  },
  {
   "cell_type": "code",
   "execution_count": null,
   "id": "06df25ef-b5dc-493a-bc32-288ceddc5ee3",
   "metadata": {},
   "outputs": [],
   "source": [
    "'''\n",
    "6. What are the three “mode” arguments that can be passed to the open() function?\n",
    "Answer: Three common modes:\n",
    "'r' – Read (default mode)\n",
    "'w' – Write (creates a new file or overwrites existing)\n",
    "'a' – Append (adds data to the end of the file)\n",
    "\n",
    "Others:\n",
    "'b' – Binary mode (e.g., 'rb', 'wb')\n",
    "'+' – Read and write (e.g., 'r+', 'w+')\n",
    "'''"
   ]
  },
  {
   "cell_type": "code",
   "execution_count": null,
   "id": "f37c6270-b4d8-4fa5-94c4-08ba579a1d87",
   "metadata": {},
   "outputs": [],
   "source": [
    "'''\n",
    "7. What happens if an existing file is opened in write mode?\n",
    "Answer: If you open an existing file in write mode ('w'), the file is erased (truncated), and a new empty file is created with the same name.\n",
    "'''"
   ]
  },
  {
   "cell_type": "code",
   "execution_count": null,
   "id": "98898668-286e-4c7d-9cb3-111977a1678c",
   "metadata": {},
   "outputs": [],
   "source": [
    "'''\n",
    "8. How do you tell the difference between read() and readlines()?\n",
    "Answer: read() – Reads the entire file content as a single string.\n",
    "readlines() – Reads the file line by line, returning a list of strings, each representing one line.\n",
    "'''\n",
    "f.read()        # \"Hello\\nWorld\\n\"\n",
    "f.readlines()   # [\"Hello\\n\", \"World\\n\"]\n"
   ]
  },
  {
   "cell_type": "code",
   "execution_count": null,
   "id": "a25a18ce-fcc5-4353-8336-76004b67e25e",
   "metadata": {},
   "outputs": [],
   "source": [
    "'''\n",
    "9. What data structure does a shelf value resemble?\n",
    "Answer: A shelf (from shelve module) resembles a dictionary.\n",
    "Keys must be strings.\n",
    "Values can be any pickleable Python object (like lists, dicts, numbers, etc.).'''\n",
    "import shelve\n",
    "with shelve.open('data') as db:\n",
    "    db['name'] = 'Ajay'\n",
    "    print(db['name'])   # Works like a dictionary\n"
   ]
  },
  {
   "cell_type": "code",
   "execution_count": null,
   "id": "3d0d0294-ef64-4b25-93d7-ad80f2f9c30c",
   "metadata": {},
   "outputs": [],
   "source": []
  }
 ],
 "metadata": {
  "kernelspec": {
   "display_name": "Python [conda env:base] *",
   "language": "python",
   "name": "conda-base-py"
  },
  "language_info": {
   "codemirror_mode": {
    "name": "ipython",
    "version": 3
   },
   "file_extension": ".py",
   "mimetype": "text/x-python",
   "name": "python",
   "nbconvert_exporter": "python",
   "pygments_lexer": "ipython3",
   "version": "3.13.5"
  }
 },
 "nbformat": 4,
 "nbformat_minor": 5
}
