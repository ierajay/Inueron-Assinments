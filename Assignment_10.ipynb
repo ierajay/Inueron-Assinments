{
 "cells": [
  {
   "cell_type": "code",
   "execution_count": 3,
   "id": "848df21b-490b-4ff7-a4bb-7111122104d9",
   "metadata": {},
   "outputs": [
    {
     "name": "stdout",
     "output_type": "stream",
     "text": [
      "Sum:  150\n"
     ]
    }
   ],
   "source": [
    "#1. Sum of elements in a list\n",
    "numbers = [10,20,30,40,50]\n",
    "total = sum(numbers)\n",
    "print(\"Sum: \",total)"
   ]
  },
  {
   "cell_type": "code",
   "execution_count": 5,
   "id": "50819ca7-bccb-46fa-b3c9-24e261835c0f",
   "metadata": {},
   "outputs": [
    {
     "name": "stdout",
     "output_type": "stream",
     "text": [
      "Product:  120\n"
     ]
    }
   ],
   "source": [
    "#2. Multiply all numbers in the list\n",
    "numbers = [1,2,3,4,5]\n",
    "product = 1\n",
    "for i in numbers:\n",
    "    product *=i\n",
    "print(\"Product: \",product)"
   ]
  },
  {
   "cell_type": "code",
   "execution_count": 7,
   "id": "0158f36a-2cbf-4198-bf35-241b76d292ae",
   "metadata": {},
   "outputs": [
    {
     "name": "stdout",
     "output_type": "stream",
     "text": [
      "The smallest number of list is: 1\n"
     ]
    }
   ],
   "source": [
    "#3. Find smallest number in a list\n",
    "numbers = [1,2,3,4,5]\n",
    "smallest = min(numbers)\n",
    "print(\"The smallest number of list is:\",smallest)"
   ]
  },
  {
   "cell_type": "code",
   "execution_count": 8,
   "id": "b17834b4-9b88-43e2-82ef-302b15e970ca",
   "metadata": {},
   "outputs": [
    {
     "name": "stdout",
     "output_type": "stream",
     "text": [
      "The largest number of list is: 5\n"
     ]
    }
   ],
   "source": [
    "#4. Find largest number in a list\n",
    "numbers = [1,2,3,4,5]\n",
    "largest = max(numbers)\n",
    "print(\"The largest number of list is:\",largest)"
   ]
  },
  {
   "cell_type": "code",
   "execution_count": 9,
   "id": "cb44d67c-86a0-4c6f-8317-e46774ee4fb8",
   "metadata": {},
   "outputs": [
    {
     "name": "stdout",
     "output_type": "stream",
     "text": [
      "The second largest number is: 15\n"
     ]
    }
   ],
   "source": [
    "#5. Find second largest number in a list\n",
    "numbers = [3,5,8,3,90,15]\n",
    "unique_number = list(set(numbers))     #Removes duplicate numbers\n",
    "unique_number.sort(reverse = True)\n",
    "second_largest = unique_number[1]\n",
    "print(\"The second largest number is:\",second_largest)"
   ]
  },
  {
   "cell_type": "code",
   "execution_count": 11,
   "id": "062f32ca-7779-454f-916c-2116130e9461",
   "metadata": {},
   "outputs": [
    {
     "name": "stdout",
     "output_type": "stream",
     "text": [
      "3 largest number from the list is:[90, 54, 30]\n"
     ]
    }
   ],
   "source": [
    "#6. Find N largest elements from a list\n",
    "import heapq\n",
    "numbers = [1,20,30,5,90,54]\n",
    "n=3\n",
    "n_largest = heapq.nlargest(n,numbers)\n",
    "print(f\"{n} largest number from the list is:{n_largest}\")\n"
   ]
  },
  {
   "cell_type": "code",
   "execution_count": 14,
   "id": "50467949-a0ec-4a78-b914-7c7cc62795b3",
   "metadata": {},
   "outputs": [
    {
     "name": "stdout",
     "output_type": "stream",
     "text": [
      "The list of even numbers : [2, 6, 10, 12, 20]\n"
     ]
    }
   ],
   "source": [
    "#7. Print even numbers in a list\n",
    "numbers = [2,5,6,7,10,15,12,19,20,25]\n",
    "even_numbers = [i for i in numbers if i%2==0]\n",
    "print(\"The list of even numbers :\", even_numbers)"
   ]
  },
  {
   "cell_type": "code",
   "execution_count": 17,
   "id": "0aedc6c1-b845-47ea-90fc-c817ba5db98b",
   "metadata": {},
   "outputs": [
    {
     "name": "stdout",
     "output_type": "stream",
     "text": [
      "The list of even numbers : [2, 6, 10, 12, 20]\n"
     ]
    }
   ],
   "source": [
    "#7. Print even numbers in a list\n",
    "numbers = [2,5,6,7,10,15,12,19,20,25]\n",
    "even_numbers = []\n",
    "for i in numbers:\n",
    "    if i%2==0:\n",
    "        even_numbers.append(i)\n",
    "\n",
    "print(\"The list of even numbers :\", even_numbers)"
   ]
  },
  {
   "cell_type": "code",
   "execution_count": 18,
   "id": "579f79ba-beb6-481c-bb57-310f69e34a75",
   "metadata": {},
   "outputs": [
    {
     "name": "stdout",
     "output_type": "stream",
     "text": [
      "The list of even numbers : [5, 7, 15, 19, 25]\n"
     ]
    }
   ],
   "source": [
    "#8. Print odd numbers in a list\n",
    "numbers = [2,5,6,7,10,15,12,19,20,25]\n",
    "odd_numbers = [i for i in numbers if i%2!=0]\n",
    "print(\"The list of even numbers :\", odd_numbers)"
   ]
  },
  {
   "cell_type": "code",
   "execution_count": 21,
   "id": "c596fac3-fa48-4889-a923-22e257a8fc62",
   "metadata": {},
   "outputs": [
    {
     "name": "stdout",
     "output_type": "stream",
     "text": [
      "The list of even numbers : [5, 7, 15, 19, 25]\n"
     ]
    }
   ],
   "source": [
    "#8. Print odd numbers in a list\n",
    "numbers = [2,5,6,7,10,15,12,19,20,25]\n",
    "odd_numbers = []\n",
    "for i in numbers:\n",
    "    if i%2!=0:\n",
    "        odd_numbers.append(i)\n",
    "print(\"The list of even numbers :\", odd_numbers)"
   ]
  },
  {
   "cell_type": "code",
   "execution_count": 22,
   "id": "4c32ec45-ad9d-4f3d-ae3a-c3e0da76218d",
   "metadata": {},
   "outputs": [
    {
     "name": "stdout",
     "output_type": "stream",
     "text": [
      "The list after removing empty list: [[1, 2], [1, 3, 5, 7, 9], [45, 67]]\n"
     ]
    }
   ],
   "source": [
    "#9. Remove empty list from list\n",
    "list = [[],[1,2],[],[1,3,5,7,9],[],[45,67]]\n",
    "non_empty=[i for i in list if i]\n",
    "print(\"The list after removing empty list:\",non_empty)"
   ]
  },
  {
   "cell_type": "code",
   "execution_count": 23,
   "id": "09196032-539f-4ad6-b4e8-cea81cb35341",
   "metadata": {},
   "outputs": [
    {
     "name": "stdout",
     "output_type": "stream",
     "text": [
      "The copy of og list is : [10, 20, 30, 45]\n"
     ]
    }
   ],
   "source": [
    "#10. Cloning or Copying a list\n",
    "og = [10, 20,30,45]\n",
    "copy = og[:]\n",
    "print(\"The copy of og list is :\", copy)"
   ]
  },
  {
   "cell_type": "code",
   "execution_count": 24,
   "id": "0befda12-ab4c-49d3-afbf-4f55ab95382a",
   "metadata": {},
   "outputs": [
    {
     "name": "stdout",
     "output_type": "stream",
     "text": [
      "The count of 1: 5\n"
     ]
    }
   ],
   "source": [
    "#11. Count occurrences of an element in a list\n",
    "number = [1,1,1,2,2,5,5,4,1,2,6,5,1,2,4,2,6,5,5]\n",
    "count = number.count(1)\n",
    "print(\"The count of 1:\",count)"
   ]
  },
  {
   "cell_type": "code",
   "execution_count": null,
   "id": "f083634c-a36e-4eef-9d3d-727252000141",
   "metadata": {},
   "outputs": [],
   "source": []
  }
 ],
 "metadata": {
  "kernelspec": {
   "display_name": "Python [conda env:base] *",
   "language": "python",
   "name": "conda-base-py"
  },
  "language_info": {
   "codemirror_mode": {
    "name": "ipython",
    "version": 3
   },
   "file_extension": ".py",
   "mimetype": "text/x-python",
   "name": "python",
   "nbconvert_exporter": "python",
   "pygments_lexer": "ipython3",
   "version": "3.13.5"
  }
 },
 "nbformat": 4,
 "nbformat_minor": 5
}
