{
 "cells": [
  {
   "cell_type": "code",
   "execution_count": null,
   "id": "57516022-e1a8-4aaa-a602-d174961ac467",
   "metadata": {},
   "outputs": [],
   "source": [
    "'''\n",
    "1. What is the name of the feature responsible for generating Regex objects?\n",
    "Answer: re.compile()\n",
    "This function compiles a regular expression pattern into a regex object.\n",
    "'''"
   ]
  },
  {
   "cell_type": "code",
   "execution_count": null,
   "id": "83736ef3-583c-4814-a5e6-3c4cc8095b01",
   "metadata": {},
   "outputs": [],
   "source": [
    "'''\n",
    "2. Why do raw strings often appear in Regex objects?\n",
    "Answer: To prevent Python from interpreting escape characters like \\n or \\t.\n",
    "Example:\n",
    "r\"\\d\\d\\d\"  # raw string: stays as \\d\\d\\d\n",
    "\"\\\\d\\\\d\\\\d\"  # without raw string, you must escape backslashes\n",
    "\n"
   ]
  },
  {
   "cell_type": "code",
   "execution_count": null,
   "id": "b87ad939-683d-452d-8bb3-98653159f50f",
   "metadata": {},
   "outputs": [],
   "source": [
    "'''\n",
    "3. What is the return value of the search() method?\n",
    "Answer: It returns a Match object if it finds something, otherwise None.\n",
    "'''"
   ]
  },
  {
   "cell_type": "code",
   "execution_count": null,
   "id": "fdfa35cb-e52c-478b-95b9-726ce9fcc413",
   "metadata": {},
   "outputs": [],
   "source": [
    "'''\n",
    "4. From a Match object, how do you get the matched string?\n",
    "Answer: Use .group() to get the match:\n",
    "'''"
   ]
  },
  {
   "cell_type": "code",
   "execution_count": null,
   "id": "1d7a9bb4-dfae-403c-a16b-a49c15135266",
   "metadata": {},
   "outputs": [],
   "source": [
    "'''\n",
    "5. Explain group 0, group 1, and group 2 in r'(\\d\\d\\d)-(\\d\\d\\d-\\d\\d\\d\\d)'\n",
    "Pattern: (\\d\\d\\d)-(\\d\\d\\d-\\d\\d\\d\\d)\n",
    "Matches: '123-456-7890'\n",
    "group(0) = entire match - '123-456-7890'\n",
    "group(1) = first part - '123'\n",
    "group(2) = second part - '456-7890'\n",
    "\n",
    "For example:\n",
    "match = re.search(r'(\\d\\d\\d)-(\\d\\d\\d-\\d\\d\\d\\d)', 'My number is 123-456-7890')\n",
    "print(match.group(0))  # 123-456-7890\n",
    "print(match.group(1))  # 123\n",
    "print(match.group(2))  # 456-7890\n",
    "\n",
    "'''"
   ]
  },
  {
   "cell_type": "code",
   "execution_count": null,
   "id": "1575ecd4-7e3f-42ee-a391-879c576e7437",
   "metadata": {},
   "outputs": [],
   "source": [
    "'''\n",
    "6. How to match real parentheses ( ) and dots . in regex?\n",
    "Answer: Escape them with a backslash \\ because:\n",
    "() is used for groups\n",
    ". matches any character\n",
    "\n",
    "For example:\n",
    "pattern = re.compile(r'\\(hello\\)\\.')  # matches literal \"(hello).\"\n",
    "print(pattern.search(\"(hello). World\"))  # Match found\n",
    "'''"
   ]
  },
  {
   "cell_type": "code",
   "execution_count": null,
   "id": "7ab9c586-5306-4844-becd-f48c640f1eb3",
   "metadata": {},
   "outputs": [],
   "source": [
    "'''\n",
    "7. Why does findall() sometimes return strings, sometimes tuples?\n",
    "Answer: If your pattern has no groups, it returns a list of strings.\n",
    "If your pattern has groups ( ), it returns a list of tuples.\n",
    "For example:\n",
    "# No group\n",
    "re.findall(r'\\d+', \"123 abc 456\")  \n",
    "Output = ['123', '456']\n",
    "\n",
    "# With groups\n",
    "re.findall(r'(\\d+)-(\\d+)', \"123-456 789-000\")  \n",
    "Output = [('123', '456'), ('789', '000')]\n",
    "\n",
    "'''"
   ]
  },
  {
   "cell_type": "code",
   "execution_count": null,
   "id": "df35cfcb-b2e8-4373-9875-9ec6b587b8ee",
   "metadata": {},
   "outputs": [],
   "source": [
    "'''\n",
    "8. What does | mean in regex?\n",
    "Answer: It's the OR operator.\n",
    "For example:\n",
    "re.search(r'cat|dog', \"I love cats\")  \n",
    "Output: finds 'cat'\n",
    "'''"
   ]
  },
  {
   "cell_type": "code",
   "execution_count": null,
   "id": "df2d7e2f-76b4-4a2b-84e5-c4f35855703e",
   "metadata": {},
   "outputs": [],
   "source": [
    "'''\n",
    "9. What does the . character match?\n",
    "Answer: Matches any character except newline (\\n).\n",
    "For example:\n",
    "re.search(r'c.t', 'cat')     Output: matches 'cat'\n",
    "re.search(r'c.t', 'cut')     Output: matches 'cut'\n",
    "'''"
   ]
  },
  {
   "cell_type": "code",
   "execution_count": 2,
   "id": "86ccb34a-c855-41f7-874d-85ccb4a65999",
   "metadata": {},
   "outputs": [
    {
     "data": {
      "text/plain": [
       "'\\n10. Difference between + and * in regex?\\nAnswer: + = 1 or more times\\n* = 0 or more times\\nFor example:\\nre.search(r\\'a+\\', \"aaa\")  Output: match\\nre.search(r\\'a*\\', \"bbb\")  Output: empty match (0 \\'a\\'s)\\n'"
      ]
     },
     "execution_count": 2,
     "metadata": {},
     "output_type": "execute_result"
    }
   ],
   "source": [
    "'''\n",
    "10. Difference between + and * in regex?\n",
    "Answer: + = 1 or more times\n",
    "* = 0 or more times\n",
    "For example:\n",
    "re.search(r'a+', \"aaa\")  Output: match\n",
    "re.search(r'a*', \"bbb\")  Output: empty match (0 'a's)\n",
    "'''"
   ]
  },
  {
   "cell_type": "code",
   "execution_count": 6,
   "id": "99b07755-79d1-4708-bc74-01cbddfa7dbe",
   "metadata": {},
   "outputs": [
    {
     "data": {
      "text/plain": [
       "\"\\n11. What’s the difference between {4} and {4,5}?\\nAnswer: {4} - exactly 4 times\\n{4,5} - between 4 to 5 times\\nFor example:\\nre.search(r'\\\\d{4}', '1234')     Output: matches\\nre.search(r'\\\\d{4,5}', '12345')  Output: matches\\n\\n\""
      ]
     },
     "execution_count": 6,
     "metadata": {},
     "output_type": "execute_result"
    }
   ],
   "source": [
    "'''\n",
    "11. What’s the difference between {4} and {4,5}?\n",
    "Answer: {4} - exactly 4 times\n",
    "{4,5} - between 4 to 5 times\n",
    "For example:\n",
    "re.search(r'\\d{4}', '1234')     Output: matches\n",
    "re.search(r'\\d{4,5}', '12345')  Output: matches\n",
    "\n",
    "'''"
   ]
  },
  {
   "cell_type": "code",
   "execution_count": 7,
   "id": "dc4aa0a2-2602-49bd-8d4b-76592e93168f",
   "metadata": {},
   "outputs": [
    {
     "data": {
      "text/plain": [
       "'\\n12. What are \\\\d, \\\\w, \\\\s in regex?\\n\\\\d - digit (0–9)\\n\\\\w - word char (a-z, A-Z, 0–9, _)\\n\\\\s - whitespace (space, tab, newline)\\n'"
      ]
     },
     "execution_count": 7,
     "metadata": {},
     "output_type": "execute_result"
    }
   ],
   "source": [
    "'''\n",
    "12. What are \\d, \\w, \\s in regex?\n",
    "\\d - digit (0–9)\n",
    "\\w - word char (a-z, A-Z, 0–9, _)\n",
    "\\s - whitespace (space, tab, newline)\n",
    "'''"
   ]
  },
  {
   "cell_type": "code",
   "execution_count": 8,
   "id": "19e1d200-d2ac-49dc-815b-424910877537",
   "metadata": {},
   "outputs": [
    {
     "data": {
      "text/plain": [
       "'\\n13. What are \\\\D, \\\\W, \\\\S in regex?\\nThese are opposites:\\n\\\\D → non-digit\\n\\\\W → non-word character\\n\\\\S → non-whitespace\\n\\n'"
      ]
     },
     "execution_count": 8,
     "metadata": {},
     "output_type": "execute_result"
    }
   ],
   "source": [
    "'''\n",
    "13. What are \\D, \\W, \\S in regex?\n",
    "These are opposites:\n",
    "\\D → non-digit\n",
    "\\W → non-word character\n",
    "\\S → non-whitespace\n",
    "\n",
    "'''\n"
   ]
  },
  {
   "cell_type": "code",
   "execution_count": null,
   "id": "a9bc9087-0b15-4eca-9bf0-0308ab7cd809",
   "metadata": {},
   "outputs": [],
   "source": [
    "'''\n",
    "14. Difference between .* and .*?\n",
    "Answer: .* - greedy, matches as much as possible\n",
    ".*? - non-greedy, matches as little as possible\n",
    "For example:\n",
    "text = \"<tag>Hello</tag><tag>World</tag>\"\n",
    "re.findall(r'<tag>.*</tag>', text)     # greedy: one big match\n",
    "re.findall(r'<tag>.*?</tag>', text)    # non-greedy: two separate matches\n",
    "'''"
   ]
  },
  {
   "cell_type": "code",
   "execution_count": null,
   "id": "a3a016ab-4c71-49c7-83ac-63d8394a608e",
   "metadata": {},
   "outputs": [],
   "source": [
    "'''\n",
    "15. Regex to match numbers and lowercase letters?\n",
    "Answer: Character class: [a-z0-9]\n",
    "For example:\n",
    "re.findall(r'[a-z0-9]', 'abc123XYZ')  # ['a','b','c','1','2','3']\n",
    "\n",
    "'''"
   ]
  },
  {
   "cell_type": "code",
   "execution_count": null,
   "id": "5abf5761-43d1-4afa-b045-2baaed20bf32",
   "metadata": {},
   "outputs": [],
   "source": [
    "'''\n",
    "16. How to make regex case-insensitive?\n",
    "Answer: Use re.IGNORECASE or re.I\n",
    "For example:\n",
    "re.search(r'apple', 'APPLE', re.IGNORECASE)  # Match\n",
    "'''\n"
   ]
  },
  {
   "cell_type": "code",
   "execution_count": null,
   "id": "0c098374-bdae-45a0-a68a-c7e3f3694851",
   "metadata": {},
   "outputs": [],
   "source": [
    "'''\n",
    "17. What does . match normally vs. with re.DOTALL?\n",
    "Answer: Normally: any character except newline\n",
    "With re.DOTALL: matches everything, including newlines\n",
    "For example:\n",
    "re.search(r'.+', 'Hello\\nWorld')         # only 'Hello'\n",
    "re.search(r'.+', 'Hello\\nWorld', re.DOTALL)  # 'Hello\\nWorld'\n",
    "'''\n"
   ]
  },
  {
   "cell_type": "code",
   "execution_count": 9,
   "id": "a068ff21-99f1-44ac-b769-688751c1dc82",
   "metadata": {},
   "outputs": [
    {
     "name": "stdout",
     "output_type": "stream",
     "text": [
      "X drummers, X pipers, five rings, X hen\n"
     ]
    }
   ],
   "source": [
    "'''\n",
    "18. Replace numbers with 'X':\n",
    "Answer:'''\n",
    "import re\n",
    "numRegex = re.compile(r'\\d+')\n",
    "print(numRegex.sub('X', '11 drummers, 10 pipers, five rings, 4 hen'))\n",
    "# Output: 'X drummers, X pipers, five rings, X hen'\n"
   ]
  },
  {
   "cell_type": "code",
   "execution_count": null,
   "id": "f7c3d80f-0d82-41dd-b677-4c583e9ad826",
   "metadata": {},
   "outputs": [],
   "source": [
    "'''\n",
    "19. What does re.VERBOSE do?\n",
    "Answer: It lets you write regex in readable, multiline format with comments.\n",
    "For example:\n",
    "re.compile(r'''\n",
    "    \\d{3}     # area code\n",
    "    -         # dash\n",
    "    \\d{3}-\\d{4} # number\n",
    "''', re.VERBOSE)\n",
    "''''"
   ]
  },
  {
   "cell_type": "code",
   "execution_count": null,
   "id": "cf11fb85-2649-4d09-a82b-bd21784cd8a6",
   "metadata": {},
   "outputs": [],
   "source": [
    "'''\n",
    "20. Regex to match numbers with commas every 3 digits\n",
    "Answer:\n",
    "re.compile(r'^\\d{1,3}(,\\d{3})*$')\n",
    "\n",
    "Matches: '42', '1,234', '6,368,745'\n",
    "Doesn't match: '1234', '12,34,567'"
   ]
  },
  {
   "cell_type": "code",
   "execution_count": null,
   "id": "ac787586-d22f-468b-b5c4-698bb851ec64",
   "metadata": {},
   "outputs": [],
   "source": [
    "'''\n",
    "21. Regex to match full names like \"Haruto Watanabe\"\n",
    "Answer:\n",
    "re.compile(r'[A-Z][a-zA-Z]*\\sWatanabe')\n",
    "Matches:\n",
    "'Haruto Watanabe'\n",
    "'RoboCop Watanabe'\n",
    "\n",
    "Doesn't match:\n",
    "'haruto Watanabe'\n",
    "'Mr. Watanabe'\n",
    "\n",
    "'''"
   ]
  },
  {
   "cell_type": "code",
   "execution_count": null,
   "id": "e7eb0181-8188-40b9-aba1-9de30a4fa156",
   "metadata": {},
   "outputs": [],
   "source": [
    "'''\n",
    "22. Regex to match structured sentences (case-insensitive)\n",
    "Answer:\n",
    "re.compile(r'^(Alice|Bob|Carol)\\s(eats|pets|throws)\\s(apples|cats|baseballs)\\.$', re.IGNORECASE)\n",
    "Matches:\n",
    "'Alice eats apples.'\n",
    "'BOB EATS CATS.'\n",
    "\n",
    "Doesn’t match:\n",
    "'ALICE THROWS FOOTBALLS.'\n",
    "\n",
    "'''"
   ]
  }
 ],
 "metadata": {
  "kernelspec": {
   "display_name": "Python [conda env:base] *",
   "language": "python",
   "name": "conda-base-py"
  },
  "language_info": {
   "codemirror_mode": {
    "name": "ipython",
    "version": 3
   },
   "file_extension": ".py",
   "mimetype": "text/x-python",
   "name": "python",
   "nbconvert_exporter": "python",
   "pygments_lexer": "ipython3",
   "version": "3.13.5"
  }
 },
 "nbformat": 4,
 "nbformat_minor": 5
}
